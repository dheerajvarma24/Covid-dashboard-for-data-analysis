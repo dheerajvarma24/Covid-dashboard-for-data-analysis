{
 "cells": [
  {
   "cell_type": "markdown",
   "id": "90314138",
   "metadata": {},
   "source": [
    "### https://github.com/dheerajvarma24/Lecture_Covid_19_data_analysis/blob/master/notebooks/Data_Preparation_V1.1.ipynb"
   ]
  },
  {
   "cell_type": "code",
   "execution_count": 2,
   "id": "4ea067f9",
   "metadata": {},
   "outputs": [],
   "source": [
    "import pandas as pd\n",
    "import numpy as np\n",
    "from matplotlib import pyplot as plt"
   ]
  },
  {
   "cell_type": "code",
   "execution_count": 3,
   "id": "4fb942df",
   "metadata": {},
   "outputs": [],
   "source": [
    "pd.set_option('display.max_rows', 500)"
   ]
  },
  {
   "cell_type": "code",
   "execution_count": 3,
   "id": "a1cfd110",
   "metadata": {},
   "outputs": [
    {
     "data": {
      "text/html": [
       "<div>\n",
       "<style scoped>\n",
       "    .dataframe tbody tr th:only-of-type {\n",
       "        vertical-align: middle;\n",
       "    }\n",
       "\n",
       "    .dataframe tbody tr th {\n",
       "        vertical-align: top;\n",
       "    }\n",
       "\n",
       "    .dataframe thead th {\n",
       "        text-align: right;\n",
       "    }\n",
       "</style>\n",
       "<table border=\"1\" class=\"dataframe\">\n",
       "  <thead>\n",
       "    <tr style=\"text-align: right;\">\n",
       "      <th></th>\n",
       "      <th>Province/State</th>\n",
       "      <th>Country/Region</th>\n",
       "      <th>Lat</th>\n",
       "      <th>Long</th>\n",
       "      <th>1/22/20</th>\n",
       "      <th>1/23/20</th>\n",
       "      <th>1/24/20</th>\n",
       "      <th>1/25/20</th>\n",
       "      <th>1/26/20</th>\n",
       "      <th>1/27/20</th>\n",
       "      <th>...</th>\n",
       "      <th>6/10/22</th>\n",
       "      <th>6/11/22</th>\n",
       "      <th>6/12/22</th>\n",
       "      <th>6/13/22</th>\n",
       "      <th>6/14/22</th>\n",
       "      <th>6/15/22</th>\n",
       "      <th>6/16/22</th>\n",
       "      <th>6/17/22</th>\n",
       "      <th>6/18/22</th>\n",
       "      <th>6/19/22</th>\n",
       "    </tr>\n",
       "  </thead>\n",
       "  <tbody>\n",
       "    <tr>\n",
       "      <th>0</th>\n",
       "      <td>NaN</td>\n",
       "      <td>Afghanistan</td>\n",
       "      <td>33.93911</td>\n",
       "      <td>67.709953</td>\n",
       "      <td>0</td>\n",
       "      <td>0</td>\n",
       "      <td>0</td>\n",
       "      <td>0</td>\n",
       "      <td>0</td>\n",
       "      <td>0</td>\n",
       "      <td>...</td>\n",
       "      <td>180864</td>\n",
       "      <td>180864</td>\n",
       "      <td>180864</td>\n",
       "      <td>181120</td>\n",
       "      <td>181178</td>\n",
       "      <td>181236</td>\n",
       "      <td>181465</td>\n",
       "      <td>181534</td>\n",
       "      <td>181574</td>\n",
       "      <td>181666</td>\n",
       "    </tr>\n",
       "    <tr>\n",
       "      <th>1</th>\n",
       "      <td>NaN</td>\n",
       "      <td>Albania</td>\n",
       "      <td>41.15330</td>\n",
       "      <td>20.168300</td>\n",
       "      <td>0</td>\n",
       "      <td>0</td>\n",
       "      <td>0</td>\n",
       "      <td>0</td>\n",
       "      <td>0</td>\n",
       "      <td>0</td>\n",
       "      <td>...</td>\n",
       "      <td>276638</td>\n",
       "      <td>276690</td>\n",
       "      <td>276731</td>\n",
       "      <td>276731</td>\n",
       "      <td>276821</td>\n",
       "      <td>276821</td>\n",
       "      <td>276821</td>\n",
       "      <td>277141</td>\n",
       "      <td>277141</td>\n",
       "      <td>277409</td>\n",
       "    </tr>\n",
       "    <tr>\n",
       "      <th>2</th>\n",
       "      <td>NaN</td>\n",
       "      <td>Algeria</td>\n",
       "      <td>28.03390</td>\n",
       "      <td>1.659600</td>\n",
       "      <td>0</td>\n",
       "      <td>0</td>\n",
       "      <td>0</td>\n",
       "      <td>0</td>\n",
       "      <td>0</td>\n",
       "      <td>0</td>\n",
       "      <td>...</td>\n",
       "      <td>265925</td>\n",
       "      <td>265925</td>\n",
       "      <td>265927</td>\n",
       "      <td>265937</td>\n",
       "      <td>265943</td>\n",
       "      <td>265952</td>\n",
       "      <td>265964</td>\n",
       "      <td>265968</td>\n",
       "      <td>265971</td>\n",
       "      <td>265975</td>\n",
       "    </tr>\n",
       "    <tr>\n",
       "      <th>3</th>\n",
       "      <td>NaN</td>\n",
       "      <td>Andorra</td>\n",
       "      <td>42.50630</td>\n",
       "      <td>1.521800</td>\n",
       "      <td>0</td>\n",
       "      <td>0</td>\n",
       "      <td>0</td>\n",
       "      <td>0</td>\n",
       "      <td>0</td>\n",
       "      <td>0</td>\n",
       "      <td>...</td>\n",
       "      <td>43224</td>\n",
       "      <td>43224</td>\n",
       "      <td>43224</td>\n",
       "      <td>43224</td>\n",
       "      <td>43224</td>\n",
       "      <td>43449</td>\n",
       "      <td>43449</td>\n",
       "      <td>43449</td>\n",
       "      <td>43449</td>\n",
       "      <td>43449</td>\n",
       "    </tr>\n",
       "    <tr>\n",
       "      <th>4</th>\n",
       "      <td>NaN</td>\n",
       "      <td>Angola</td>\n",
       "      <td>-11.20270</td>\n",
       "      <td>17.873900</td>\n",
       "      <td>0</td>\n",
       "      <td>0</td>\n",
       "      <td>0</td>\n",
       "      <td>0</td>\n",
       "      <td>0</td>\n",
       "      <td>0</td>\n",
       "      <td>...</td>\n",
       "      <td>99761</td>\n",
       "      <td>99761</td>\n",
       "      <td>99761</td>\n",
       "      <td>99761</td>\n",
       "      <td>99761</td>\n",
       "      <td>99761</td>\n",
       "      <td>99761</td>\n",
       "      <td>99761</td>\n",
       "      <td>99761</td>\n",
       "      <td>99761</td>\n",
       "    </tr>\n",
       "  </tbody>\n",
       "</table>\n",
       "<p>5 rows × 884 columns</p>\n",
       "</div>"
      ],
      "text/plain": [
       "  Province/State Country/Region       Lat       Long  1/22/20  1/23/20  \\\n",
       "0            NaN    Afghanistan  33.93911  67.709953        0        0   \n",
       "1            NaN        Albania  41.15330  20.168300        0        0   \n",
       "2            NaN        Algeria  28.03390   1.659600        0        0   \n",
       "3            NaN        Andorra  42.50630   1.521800        0        0   \n",
       "4            NaN         Angola -11.20270  17.873900        0        0   \n",
       "\n",
       "   1/24/20  1/25/20  1/26/20  1/27/20  ...  6/10/22  6/11/22  6/12/22  \\\n",
       "0        0        0        0        0  ...   180864   180864   180864   \n",
       "1        0        0        0        0  ...   276638   276690   276731   \n",
       "2        0        0        0        0  ...   265925   265925   265927   \n",
       "3        0        0        0        0  ...    43224    43224    43224   \n",
       "4        0        0        0        0  ...    99761    99761    99761   \n",
       "\n",
       "   6/13/22  6/14/22  6/15/22  6/16/22  6/17/22  6/18/22  6/19/22  \n",
       "0   181120   181178   181236   181465   181534   181574   181666  \n",
       "1   276731   276821   276821   276821   277141   277141   277409  \n",
       "2   265937   265943   265952   265964   265968   265971   265975  \n",
       "3    43224    43224    43449    43449    43449    43449    43449  \n",
       "4    99761    99761    99761    99761    99761    99761    99761  \n",
       "\n",
       "[5 rows x 884 columns]"
      ]
     },
     "execution_count": 3,
     "metadata": {},
     "output_type": "execute_result"
    }
   ],
   "source": [
    "data_path = '../data/raw/COVID-19-master/csse_covid_19_data/csse_covid_19_time_series/time_series_covid19_confirmed_global.csv'\n",
    "raw_data_df = pd.read_csv(data_path)\n",
    "raw_data_df.head()\n"
   ]
  },
  {
   "cell_type": "code",
   "execution_count": 4,
   "id": "b577539c",
   "metadata": {},
   "outputs": [],
   "source": [
    "dates_col = raw_data_df.columns[4:]"
   ]
  },
  {
   "cell_type": "code",
   "execution_count": 5,
   "id": "0ce2c1e2",
   "metadata": {},
   "outputs": [
    {
     "data": {
      "text/plain": [
       "199"
      ]
     },
     "execution_count": 5,
     "metadata": {},
     "output_type": "execute_result"
    }
   ],
   "source": [
    "len(raw_data_df['Country/Region'].unique())"
   ]
  },
  {
   "cell_type": "code",
   "execution_count": 6,
   "id": "0a4b4868",
   "metadata": {},
   "outputs": [
    {
     "data": {
      "text/html": [
       "<div>\n",
       "<style scoped>\n",
       "    .dataframe tbody tr th:only-of-type {\n",
       "        vertical-align: middle;\n",
       "    }\n",
       "\n",
       "    .dataframe tbody tr th {\n",
       "        vertical-align: top;\n",
       "    }\n",
       "\n",
       "    .dataframe thead th {\n",
       "        text-align: right;\n",
       "    }\n",
       "</style>\n",
       "<table border=\"1\" class=\"dataframe\">\n",
       "  <thead>\n",
       "    <tr style=\"text-align: right;\">\n",
       "      <th></th>\n",
       "      <th>0</th>\n",
       "    </tr>\n",
       "  </thead>\n",
       "  <tbody>\n",
       "    <tr>\n",
       "      <th>0</th>\n",
       "      <td>1/22/20</td>\n",
       "    </tr>\n",
       "    <tr>\n",
       "      <th>1</th>\n",
       "      <td>1/23/20</td>\n",
       "    </tr>\n",
       "    <tr>\n",
       "      <th>2</th>\n",
       "      <td>1/24/20</td>\n",
       "    </tr>\n",
       "    <tr>\n",
       "      <th>3</th>\n",
       "      <td>1/25/20</td>\n",
       "    </tr>\n",
       "    <tr>\n",
       "      <th>4</th>\n",
       "      <td>1/26/20</td>\n",
       "    </tr>\n",
       "  </tbody>\n",
       "</table>\n",
       "</div>"
      ],
      "text/plain": [
       "         0\n",
       "0  1/22/20\n",
       "1  1/23/20\n",
       "2  1/24/20\n",
       "3  1/25/20\n",
       "4  1/26/20"
      ]
     },
     "execution_count": 6,
     "metadata": {},
     "output_type": "execute_result"
    }
   ],
   "source": [
    "temp = []\n",
    "for each in dates_col:\n",
    "    temp.append(each)\n",
    "\n",
    "dates_df = pd.DataFrame(temp)\n",
    "dates_df.head()"
   ]
  },
  {
   "cell_type": "code",
   "execution_count": 7,
   "id": "c489667e",
   "metadata": {},
   "outputs": [],
   "source": [
    "dates_df = dates_df.rename(columns={0 : 'date'})"
   ]
  },
  {
   "cell_type": "code",
   "execution_count": 8,
   "id": "8f15c274",
   "metadata": {},
   "outputs": [
    {
     "data": {
      "text/plain": [
       "880"
      ]
     },
     "execution_count": 8,
     "metadata": {},
     "output_type": "execute_result"
    }
   ],
   "source": [
    "len(dates_df)"
   ]
  },
  {
   "cell_type": "code",
   "execution_count": 9,
   "id": "88d28363",
   "metadata": {},
   "outputs": [
    {
     "data": {
      "text/plain": [
       "1/22/20           1\n",
       "1/23/20           1\n",
       "1/24/20           2\n",
       "1/25/20           2\n",
       "1/26/20           5\n",
       "             ...   \n",
       "6/15/22    85941290\n",
       "6/16/22    86057735\n",
       "6/17/22    86216418\n",
       "6/18/22    86230982\n",
       "6/19/22    86246101\n",
       "Length: 880, dtype: int64"
      ]
     },
     "execution_count": 9,
     "metadata": {},
     "output_type": "execute_result"
    }
   ],
   "source": [
    "raw_data_df[raw_data_df['Country/Region'] == \"US\"].iloc[:,4:].sum(axis=0)"
   ]
  },
  {
   "cell_type": "code",
   "execution_count": 10,
   "id": "2dbce43b",
   "metadata": {},
   "outputs": [
    {
     "data": {
      "text/html": [
       "<div>\n",
       "<style scoped>\n",
       "    .dataframe tbody tr th:only-of-type {\n",
       "        vertical-align: middle;\n",
       "    }\n",
       "\n",
       "    .dataframe tbody tr th {\n",
       "        vertical-align: top;\n",
       "    }\n",
       "\n",
       "    .dataframe thead th {\n",
       "        text-align: right;\n",
       "    }\n",
       "</style>\n",
       "<table border=\"1\" class=\"dataframe\">\n",
       "  <thead>\n",
       "    <tr style=\"text-align: right;\">\n",
       "      <th></th>\n",
       "      <th>date</th>\n",
       "      <th>US</th>\n",
       "    </tr>\n",
       "  </thead>\n",
       "  <tbody>\n",
       "    <tr>\n",
       "      <th>875</th>\n",
       "      <td>6/15/22</td>\n",
       "      <td>85941290</td>\n",
       "    </tr>\n",
       "    <tr>\n",
       "      <th>876</th>\n",
       "      <td>6/16/22</td>\n",
       "      <td>86057735</td>\n",
       "    </tr>\n",
       "    <tr>\n",
       "      <th>877</th>\n",
       "      <td>6/17/22</td>\n",
       "      <td>86216418</td>\n",
       "    </tr>\n",
       "    <tr>\n",
       "      <th>878</th>\n",
       "      <td>6/18/22</td>\n",
       "      <td>86230982</td>\n",
       "    </tr>\n",
       "    <tr>\n",
       "      <th>879</th>\n",
       "      <td>6/19/22</td>\n",
       "      <td>86246101</td>\n",
       "    </tr>\n",
       "  </tbody>\n",
       "</table>\n",
       "</div>"
      ],
      "text/plain": [
       "        date        US\n",
       "875  6/15/22  85941290\n",
       "876  6/16/22  86057735\n",
       "877  6/17/22  86216418\n",
       "878  6/18/22  86230982\n",
       "879  6/19/22  86246101"
      ]
     },
     "execution_count": 10,
     "metadata": {},
     "output_type": "execute_result"
    }
   ],
   "source": [
    "dates_df['US'] = np.array(raw_data_df[raw_data_df['Country/Region'] == \"US\"].iloc[:,4:].sum(axis=0))\n",
    "dates_df.tail()"
   ]
  },
  {
   "cell_type": "code",
   "execution_count": 11,
   "id": "088f2f3c",
   "metadata": {},
   "outputs": [],
   "source": [
    " countries_list = ['India', 'Germany', 'Italy', 'Australia']\n",
    "for each in countries_list:\n",
    "    dates_df[each] = np.array(raw_data_df[raw_data_df['Country/Region'] == each].iloc[:,4:].sum(axis=0))\n",
    "\n",
    "    "
   ]
  },
  {
   "cell_type": "code",
   "execution_count": 12,
   "id": "820b573a",
   "metadata": {},
   "outputs": [
    {
     "data": {
      "text/html": [
       "<div>\n",
       "<style scoped>\n",
       "    .dataframe tbody tr th:only-of-type {\n",
       "        vertical-align: middle;\n",
       "    }\n",
       "\n",
       "    .dataframe tbody tr th {\n",
       "        vertical-align: top;\n",
       "    }\n",
       "\n",
       "    .dataframe thead th {\n",
       "        text-align: right;\n",
       "    }\n",
       "</style>\n",
       "<table border=\"1\" class=\"dataframe\">\n",
       "  <thead>\n",
       "    <tr style=\"text-align: right;\">\n",
       "      <th></th>\n",
       "      <th>date</th>\n",
       "      <th>US</th>\n",
       "      <th>India</th>\n",
       "      <th>Germany</th>\n",
       "      <th>Italy</th>\n",
       "      <th>Australia</th>\n",
       "    </tr>\n",
       "  </thead>\n",
       "  <tbody>\n",
       "    <tr>\n",
       "      <th>875</th>\n",
       "      <td>6/15/22</td>\n",
       "      <td>85941290</td>\n",
       "      <td>43257730</td>\n",
       "      <td>27096571</td>\n",
       "      <td>17736696</td>\n",
       "      <td>7724035</td>\n",
       "    </tr>\n",
       "    <tr>\n",
       "      <th>876</th>\n",
       "      <td>6/16/22</td>\n",
       "      <td>86057735</td>\n",
       "      <td>43270577</td>\n",
       "      <td>27124689</td>\n",
       "      <td>17773764</td>\n",
       "      <td>7753800</td>\n",
       "    </tr>\n",
       "    <tr>\n",
       "      <th>877</th>\n",
       "      <td>6/17/22</td>\n",
       "      <td>86216418</td>\n",
       "      <td>43283793</td>\n",
       "      <td>27204953</td>\n",
       "      <td>17809934</td>\n",
       "      <td>7778643</td>\n",
       "    </tr>\n",
       "    <tr>\n",
       "      <th>878</th>\n",
       "      <td>6/18/22</td>\n",
       "      <td>86230982</td>\n",
       "      <td>43296692</td>\n",
       "      <td>27204955</td>\n",
       "      <td>17844905</td>\n",
       "      <td>7801241</td>\n",
       "    </tr>\n",
       "    <tr>\n",
       "      <th>879</th>\n",
       "      <td>6/19/22</td>\n",
       "      <td>86246101</td>\n",
       "      <td>43309473</td>\n",
       "      <td>27211896</td>\n",
       "      <td>17879160</td>\n",
       "      <td>7825659</td>\n",
       "    </tr>\n",
       "  </tbody>\n",
       "</table>\n",
       "</div>"
      ],
      "text/plain": [
       "        date        US     India   Germany     Italy  Australia\n",
       "875  6/15/22  85941290  43257730  27096571  17736696    7724035\n",
       "876  6/16/22  86057735  43270577  27124689  17773764    7753800\n",
       "877  6/17/22  86216418  43283793  27204953  17809934    7778643\n",
       "878  6/18/22  86230982  43296692  27204955  17844905    7801241\n",
       "879  6/19/22  86246101  43309473  27211896  17879160    7825659"
      ]
     },
     "execution_count": 12,
     "metadata": {},
     "output_type": "execute_result"
    }
   ],
   "source": [
    "dates_df.tail()"
   ]
  },
  {
   "cell_type": "markdown",
   "id": "f12aec6c",
   "metadata": {},
   "source": [
    "## slice, adding a column to DataFrame, columns(), unique(), len(..), sum(axis=0), iloc(:,3:), "
   ]
  },
  {
   "cell_type": "code",
   "execution_count": 19,
   "id": "81a8fcf7",
   "metadata": {},
   "outputs": [
    {
     "data": {
      "text/plain": [
       "<AxesSubplot:xlabel='date'>"
      ]
     },
     "execution_count": 19,
     "metadata": {},
     "output_type": "execute_result"
    },
    {
     "data": {
      "image/png": "[encoded data removed]",
      "text/plain": [
       "<Figure size 432x288 with 1 Axes>"
      ]
     },
     "metadata": {
      "needs_background": "light"
     },
     "output_type": "display_data"
    }
   ],
   "source": [
    "%matplotlib inline\n",
    "dates_df.set_index('date').plot()"
   ]
  },
  {
   "cell_type": "markdown",
   "id": "85f4393e",
   "metadata": {},
   "source": [
    "## converting date string to datetime then to iso format"
   ]
  },
  {
   "cell_type": "code",
   "execution_count": null,
   "id": "f411f6b1",
   "metadata": {},
   "outputs": [],
   "source": []
  },
  {
   "cell_type": "code",
   "execution_count": 20,
   "id": "26b3dc75",
   "metadata": {},
   "outputs": [
    {
     "data": {
      "text/plain": [
       "str"
      ]
     },
     "execution_count": 20,
     "metadata": {},
     "output_type": "execute_result"
    }
   ],
   "source": [
    "type(dates_df['date'][0])"
   ]
  },
  {
   "cell_type": "code",
   "execution_count": 22,
   "id": "e28fd314",
   "metadata": {},
   "outputs": [
    {
     "data": {
      "text/plain": [
       "'1/22/20'"
      ]
     },
     "execution_count": 22,
     "metadata": {},
     "output_type": "execute_result"
    }
   ],
   "source": [
    "(dates_df['date'][0])"
   ]
  },
  {
   "cell_type": "code",
   "execution_count": 21,
   "id": "b5022fcd",
   "metadata": {},
   "outputs": [],
   "source": [
    "from datetime import datetime"
   ]
  },
  {
   "cell_type": "code",
   "execution_count": 26,
   "id": "4bc203ee",
   "metadata": {},
   "outputs": [
    {
     "name": "stdout",
     "output_type": "stream",
     "text": [
      "2020-01-22 00:00:00\n",
      "<class 'datetime.datetime'>\n"
     ]
    }
   ],
   "source": [
    "x= datetime.strptime(dates_df['date'][0], '%m/%d/%y')\n",
    "print(x)\n",
    "print(type (x))"
   ]
  },
  {
   "cell_type": "code",
   "execution_count": 28,
   "id": "3e5ad674",
   "metadata": {},
   "outputs": [
    {
     "name": "stdout",
     "output_type": "stream",
     "text": [
      "2020-01-22\n"
     ]
    }
   ],
   "source": [
    "y = datetime.strftime(x, '%Y-%m-%d')\n",
    "print(y)"
   ]
  },
  {
   "cell_type": "code",
   "execution_count": null,
   "id": "f6387573",
   "metadata": {},
   "outputs": [],
   "source": []
  },
  {
   "cell_type": "code",
   "execution_count": 37,
   "id": "dbd465d4",
   "metadata": {},
   "outputs": [
    {
     "data": {
      "text/plain": [
       "'2020-01-22'"
      ]
     },
     "execution_count": 37,
     "metadata": {},
     "output_type": "execute_result"
    }
   ],
   "source": [
    "temp_datetime = [datetime.strptime(each, '%m/%d/%y') for each in dates_df['date']]\n",
    "temp_isoDates = [datetime.strftime(each, '%Y-%m-%d') for each in temp_datetime]\n",
    "\n",
    "temp_isoDates[0]"
   ]
  },
  {
   "cell_type": "code",
   "execution_count": 38,
   "id": "dde4e00b",
   "metadata": {},
   "outputs": [],
   "source": [
    "dates_df['date'] = temp_isoDates"
   ]
  },
  {
   "cell_type": "code",
   "execution_count": 39,
   "id": "dcec6117",
   "metadata": {},
   "outputs": [
    {
     "data": {
      "text/html": [
       "<div>\n",
       "<style scoped>\n",
       "    .dataframe tbody tr th:only-of-type {\n",
       "        vertical-align: middle;\n",
       "    }\n",
       "\n",
       "    .dataframe tbody tr th {\n",
       "        vertical-align: top;\n",
       "    }\n",
       "\n",
       "    .dataframe thead th {\n",
       "        text-align: right;\n",
       "    }\n",
       "</style>\n",
       "<table border=\"1\" class=\"dataframe\">\n",
       "  <thead>\n",
       "    <tr style=\"text-align: right;\">\n",
       "      <th></th>\n",
       "      <th>date</th>\n",
       "      <th>US</th>\n",
       "      <th>India</th>\n",
       "      <th>Germany</th>\n",
       "      <th>Italy</th>\n",
       "      <th>Australia</th>\n",
       "    </tr>\n",
       "  </thead>\n",
       "  <tbody>\n",
       "    <tr>\n",
       "      <th>875</th>\n",
       "      <td>2022-06-15</td>\n",
       "      <td>85941290</td>\n",
       "      <td>43257730</td>\n",
       "      <td>27096571</td>\n",
       "      <td>17736696</td>\n",
       "      <td>7724035</td>\n",
       "    </tr>\n",
       "    <tr>\n",
       "      <th>876</th>\n",
       "      <td>2022-06-16</td>\n",
       "      <td>86057735</td>\n",
       "      <td>43270577</td>\n",
       "      <td>27124689</td>\n",
       "      <td>17773764</td>\n",
       "      <td>7753800</td>\n",
       "    </tr>\n",
       "    <tr>\n",
       "      <th>877</th>\n",
       "      <td>2022-06-17</td>\n",
       "      <td>86216418</td>\n",
       "      <td>43283793</td>\n",
       "      <td>27204953</td>\n",
       "      <td>17809934</td>\n",
       "      <td>7778643</td>\n",
       "    </tr>\n",
       "    <tr>\n",
       "      <th>878</th>\n",
       "      <td>2022-06-18</td>\n",
       "      <td>86230982</td>\n",
       "      <td>43296692</td>\n",
       "      <td>27204955</td>\n",
       "      <td>17844905</td>\n",
       "      <td>7801241</td>\n",
       "    </tr>\n",
       "    <tr>\n",
       "      <th>879</th>\n",
       "      <td>2022-06-19</td>\n",
       "      <td>86246101</td>\n",
       "      <td>43309473</td>\n",
       "      <td>27211896</td>\n",
       "      <td>17879160</td>\n",
       "      <td>7825659</td>\n",
       "    </tr>\n",
       "  </tbody>\n",
       "</table>\n",
       "</div>"
      ],
      "text/plain": [
       "           date        US     India   Germany     Italy  Australia\n",
       "875  2022-06-15  85941290  43257730  27096571  17736696    7724035\n",
       "876  2022-06-16  86057735  43270577  27124689  17773764    7753800\n",
       "877  2022-06-17  86216418  43283793  27204953  17809934    7778643\n",
       "878  2022-06-18  86230982  43296692  27204955  17844905    7801241\n",
       "879  2022-06-19  86246101  43309473  27211896  17879160    7825659"
      ]
     },
     "execution_count": 39,
     "metadata": {},
     "output_type": "execute_result"
    }
   ],
   "source": [
    "dates_df.tail()"
   ]
  },
  {
   "cell_type": "code",
   "execution_count": 41,
   "id": "a5324351",
   "metadata": {},
   "outputs": [],
   "source": [
    "dates_df.to_csv('../data/processed/COVID_small_flat_table.csv', sep=';')"
   ]
  },
  {
   "cell_type": "code",
   "execution_count": null,
   "id": "cbc8a182",
   "metadata": {},
   "outputs": [],
   "source": []
  },
  {
   "cell_type": "markdown",
   "id": "87e351ad",
   "metadata": {},
   "source": [
    "# Relational primary Data structure 4.3"
   ]
  },
  {
   "cell_type": "code",
   "execution_count": 6,
   "id": "e6fe3e24",
   "metadata": {},
   "outputs": [],
   "source": [
    "pd_data = pd.read_csv('../data/raw/COVID-19-master/csse_covid_19_data/csse_covid_19_time_series/time_series_covid19_confirmed_global.csv')"
   ]
  },
  {
   "cell_type": "code",
   "execution_count": 7,
   "id": "14ebc285",
   "metadata": {},
   "outputs": [
    {
     "data": {
      "text/html": [
       "<div>\n",
       "<style scoped>\n",
       "    .dataframe tbody tr th:only-of-type {\n",
       "        vertical-align: middle;\n",
       "    }\n",
       "\n",
       "    .dataframe tbody tr th {\n",
       "        vertical-align: top;\n",
       "    }\n",
       "\n",
       "    .dataframe thead th {\n",
       "        text-align: right;\n",
       "    }\n",
       "</style>\n",
       "<table border=\"1\" class=\"dataframe\">\n",
       "  <thead>\n",
       "    <tr style=\"text-align: right;\">\n",
       "      <th></th>\n",
       "      <th>Province/State</th>\n",
       "      <th>Country/Region</th>\n",
       "      <th>Lat</th>\n",
       "      <th>Long</th>\n",
       "      <th>1/22/20</th>\n",
       "      <th>1/23/20</th>\n",
       "      <th>1/24/20</th>\n",
       "      <th>1/25/20</th>\n",
       "      <th>1/26/20</th>\n",
       "      <th>1/27/20</th>\n",
       "      <th>...</th>\n",
       "      <th>6/10/22</th>\n",
       "      <th>6/11/22</th>\n",
       "      <th>6/12/22</th>\n",
       "      <th>6/13/22</th>\n",
       "      <th>6/14/22</th>\n",
       "      <th>6/15/22</th>\n",
       "      <th>6/16/22</th>\n",
       "      <th>6/17/22</th>\n",
       "      <th>6/18/22</th>\n",
       "      <th>6/19/22</th>\n",
       "    </tr>\n",
       "  </thead>\n",
       "  <tbody>\n",
       "    <tr>\n",
       "      <th>0</th>\n",
       "      <td>NaN</td>\n",
       "      <td>Afghanistan</td>\n",
       "      <td>33.93911</td>\n",
       "      <td>67.709953</td>\n",
       "      <td>0</td>\n",
       "      <td>0</td>\n",
       "      <td>0</td>\n",
       "      <td>0</td>\n",
       "      <td>0</td>\n",
       "      <td>0</td>\n",
       "      <td>...</td>\n",
       "      <td>180864</td>\n",
       "      <td>180864</td>\n",
       "      <td>180864</td>\n",
       "      <td>181120</td>\n",
       "      <td>181178</td>\n",
       "      <td>181236</td>\n",
       "      <td>181465</td>\n",
       "      <td>181534</td>\n",
       "      <td>181574</td>\n",
       "      <td>181666</td>\n",
       "    </tr>\n",
       "    <tr>\n",
       "      <th>1</th>\n",
       "      <td>NaN</td>\n",
       "      <td>Albania</td>\n",
       "      <td>41.15330</td>\n",
       "      <td>20.168300</td>\n",
       "      <td>0</td>\n",
       "      <td>0</td>\n",
       "      <td>0</td>\n",
       "      <td>0</td>\n",
       "      <td>0</td>\n",
       "      <td>0</td>\n",
       "      <td>...</td>\n",
       "      <td>276638</td>\n",
       "      <td>276690</td>\n",
       "      <td>276731</td>\n",
       "      <td>276731</td>\n",
       "      <td>276821</td>\n",
       "      <td>276821</td>\n",
       "      <td>276821</td>\n",
       "      <td>277141</td>\n",
       "      <td>277141</td>\n",
       "      <td>277409</td>\n",
       "    </tr>\n",
       "    <tr>\n",
       "      <th>2</th>\n",
       "      <td>NaN</td>\n",
       "      <td>Algeria</td>\n",
       "      <td>28.03390</td>\n",
       "      <td>1.659600</td>\n",
       "      <td>0</td>\n",
       "      <td>0</td>\n",
       "      <td>0</td>\n",
       "      <td>0</td>\n",
       "      <td>0</td>\n",
       "      <td>0</td>\n",
       "      <td>...</td>\n",
       "      <td>265925</td>\n",
       "      <td>265925</td>\n",
       "      <td>265927</td>\n",
       "      <td>265937</td>\n",
       "      <td>265943</td>\n",
       "      <td>265952</td>\n",
       "      <td>265964</td>\n",
       "      <td>265968</td>\n",
       "      <td>265971</td>\n",
       "      <td>265975</td>\n",
       "    </tr>\n",
       "    <tr>\n",
       "      <th>3</th>\n",
       "      <td>NaN</td>\n",
       "      <td>Andorra</td>\n",
       "      <td>42.50630</td>\n",
       "      <td>1.521800</td>\n",
       "      <td>0</td>\n",
       "      <td>0</td>\n",
       "      <td>0</td>\n",
       "      <td>0</td>\n",
       "      <td>0</td>\n",
       "      <td>0</td>\n",
       "      <td>...</td>\n",
       "      <td>43224</td>\n",
       "      <td>43224</td>\n",
       "      <td>43224</td>\n",
       "      <td>43224</td>\n",
       "      <td>43224</td>\n",
       "      <td>43449</td>\n",
       "      <td>43449</td>\n",
       "      <td>43449</td>\n",
       "      <td>43449</td>\n",
       "      <td>43449</td>\n",
       "    </tr>\n",
       "    <tr>\n",
       "      <th>4</th>\n",
       "      <td>NaN</td>\n",
       "      <td>Angola</td>\n",
       "      <td>-11.20270</td>\n",
       "      <td>17.873900</td>\n",
       "      <td>0</td>\n",
       "      <td>0</td>\n",
       "      <td>0</td>\n",
       "      <td>0</td>\n",
       "      <td>0</td>\n",
       "      <td>0</td>\n",
       "      <td>...</td>\n",
       "      <td>99761</td>\n",
       "      <td>99761</td>\n",
       "      <td>99761</td>\n",
       "      <td>99761</td>\n",
       "      <td>99761</td>\n",
       "      <td>99761</td>\n",
       "      <td>99761</td>\n",
       "      <td>99761</td>\n",
       "      <td>99761</td>\n",
       "      <td>99761</td>\n",
       "    </tr>\n",
       "  </tbody>\n",
       "</table>\n",
       "<p>5 rows × 884 columns</p>\n",
       "</div>"
      ],
      "text/plain": [
       "  Province/State Country/Region       Lat       Long  1/22/20  1/23/20  \\\n",
       "0            NaN    Afghanistan  33.93911  67.709953        0        0   \n",
       "1            NaN        Albania  41.15330  20.168300        0        0   \n",
       "2            NaN        Algeria  28.03390   1.659600        0        0   \n",
       "3            NaN        Andorra  42.50630   1.521800        0        0   \n",
       "4            NaN         Angola -11.20270  17.873900        0        0   \n",
       "\n",
       "   1/24/20  1/25/20  1/26/20  1/27/20  ...  6/10/22  6/11/22  6/12/22  \\\n",
       "0        0        0        0        0  ...   180864   180864   180864   \n",
       "1        0        0        0        0  ...   276638   276690   276731   \n",
       "2        0        0        0        0  ...   265925   265925   265927   \n",
       "3        0        0        0        0  ...    43224    43224    43224   \n",
       "4        0        0        0        0  ...    99761    99761    99761   \n",
       "\n",
       "   6/13/22  6/14/22  6/15/22  6/16/22  6/17/22  6/18/22  6/19/22  \n",
       "0   181120   181178   181236   181465   181534   181574   181666  \n",
       "1   276731   276821   276821   276821   277141   277141   277409  \n",
       "2   265937   265943   265952   265964   265968   265971   265975  \n",
       "3    43224    43224    43449    43449    43449    43449    43449  \n",
       "4    99761    99761    99761    99761    99761    99761    99761  \n",
       "\n",
       "[5 rows x 884 columns]"
      ]
     },
     "execution_count": 7,
     "metadata": {},
     "output_type": "execute_result"
    }
   ],
   "source": [
    "pd_data.head()"
   ]
  },
  {
   "cell_type": "code",
   "execution_count": null,
   "id": "9ec47604",
   "metadata": {},
   "outputs": [],
   "source": [
    "pd_data = pd_data.rename(columns={'Province/State': 'state', 'Country/Region': 'country'})\n",
    "pd_data = pd_data.drop(['Lat', 'Long'], axis=1)\n",
    "pd_data.head()"
   ]
  },
  {
   "cell_type": "code",
   "execution_count": null,
   "id": "998e0387",
   "metadata": {},
   "outputs": [],
   "source": []
  },
  {
   "cell_type": "code",
   "execution_count": null,
   "id": "a49d95d9",
   "metadata": {},
   "outputs": [],
   "source": [
    "pd_data = pd_data.set_index(['state', 'country'])"
   ]
  },
  {
   "cell_type": "code",
   "execution_count": 20,
   "id": "5b0c88df",
   "metadata": {},
   "outputs": [],
   "source": [
    "pd_data = pd_data.T"
   ]
  },
  {
   "cell_type": "code",
   "execution_count": 23,
   "id": "23d3486d",
   "metadata": {},
   "outputs": [
    {
     "data": {
      "text/plain": [
       "MultiIndex([(                           nan,          'Afghanistan'),\n",
       "            (                           nan,              'Albania'),\n",
       "            (                           nan,              'Algeria'),\n",
       "            (                           nan,              'Andorra'),\n",
       "            (                           nan,               'Angola'),\n",
       "            (                           nan,           'Antarctica'),\n",
       "            (                           nan,  'Antigua and Barbuda'),\n",
       "            (                           nan,            'Argentina'),\n",
       "            (                           nan,              'Armenia'),\n",
       "            ('Australian Capital Territory',            'Australia'),\n",
       "            ...\n",
       "            (                           nan,              'Uruguay'),\n",
       "            (                           nan,           'Uzbekistan'),\n",
       "            (                           nan,              'Vanuatu'),\n",
       "            (                           nan,            'Venezuela'),\n",
       "            (                           nan,              'Vietnam'),\n",
       "            (                           nan,   'West Bank and Gaza'),\n",
       "            (                           nan, 'Winter Olympics 2022'),\n",
       "            (                           nan,                'Yemen'),\n",
       "            (                           nan,               'Zambia'),\n",
       "            (                           nan,             'Zimbabwe')],\n",
       "           names=['state', 'country'], length=285)"
      ]
     },
     "execution_count": 23,
     "metadata": {},
     "output_type": "execute_result"
    }
   ],
   "source": [
    "pd_data.columns"
   ]
  },
  {
   "cell_type": "code",
   "execution_count": 25,
   "id": "4922ccbd",
   "metadata": {},
   "outputs": [],
   "source": [
    "pd_data = pd_data.stack(level=[0,1])"
   ]
  },
  {
   "cell_type": "code",
   "execution_count": 31,
   "id": "edb6b3fb",
   "metadata": {},
   "outputs": [],
   "source": [
    "pd_data = pd_data.reset_index()"
   ]
  },
  {
   "cell_type": "code",
   "execution_count": 32,
   "id": "2c456ec5",
   "metadata": {},
   "outputs": [
    {
     "data": {
      "text/html": [
       "<div>\n",
       "<style scoped>\n",
       "    .dataframe tbody tr th:only-of-type {\n",
       "        vertical-align: middle;\n",
       "    }\n",
       "\n",
       "    .dataframe tbody tr th {\n",
       "        vertical-align: top;\n",
       "    }\n",
       "\n",
       "    .dataframe thead th {\n",
       "        text-align: right;\n",
       "    }\n",
       "</style>\n",
       "<table border=\"1\" class=\"dataframe\">\n",
       "  <thead>\n",
       "    <tr style=\"text-align: right;\">\n",
       "      <th></th>\n",
       "      <th>level_0</th>\n",
       "      <th>state</th>\n",
       "      <th>country</th>\n",
       "      <th>0</th>\n",
       "    </tr>\n",
       "  </thead>\n",
       "  <tbody>\n",
       "    <tr>\n",
       "      <th>0</th>\n",
       "      <td>1/22/20</td>\n",
       "      <td>NaN</td>\n",
       "      <td>Afghanistan</td>\n",
       "      <td>0.0</td>\n",
       "    </tr>\n",
       "    <tr>\n",
       "      <th>1</th>\n",
       "      <td>1/22/20</td>\n",
       "      <td>NaN</td>\n",
       "      <td>Albania</td>\n",
       "      <td>0.0</td>\n",
       "    </tr>\n",
       "    <tr>\n",
       "      <th>2</th>\n",
       "      <td>1/22/20</td>\n",
       "      <td>NaN</td>\n",
       "      <td>Algeria</td>\n",
       "      <td>0.0</td>\n",
       "    </tr>\n",
       "    <tr>\n",
       "      <th>3</th>\n",
       "      <td>1/22/20</td>\n",
       "      <td>NaN</td>\n",
       "      <td>Andorra</td>\n",
       "      <td>0.0</td>\n",
       "    </tr>\n",
       "    <tr>\n",
       "      <th>4</th>\n",
       "      <td>1/22/20</td>\n",
       "      <td>NaN</td>\n",
       "      <td>Angola</td>\n",
       "      <td>0.0</td>\n",
       "    </tr>\n",
       "  </tbody>\n",
       "</table>\n",
       "</div>"
      ],
      "text/plain": [
       "   level_0 state      country    0\n",
       "0  1/22/20   NaN  Afghanistan  0.0\n",
       "1  1/22/20   NaN      Albania  0.0\n",
       "2  1/22/20   NaN      Algeria  0.0\n",
       "3  1/22/20   NaN      Andorra  0.0\n",
       "4  1/22/20   NaN       Angola  0.0"
      ]
     },
     "execution_count": 32,
     "metadata": {},
     "output_type": "execute_result"
    }
   ],
   "source": [
    "pd_data.head()"
   ]
  },
  {
   "cell_type": "code",
   "execution_count": 33,
   "id": "dd364bc8",
   "metadata": {},
   "outputs": [],
   "source": [
    "pd_data = pd_data.rename(columns={'level_0':'date', '0' : 'confirmed'})\n",
    "#pd_data.rename(columns={'level_0':'date', '0' : 'confirmed'})"
   ]
  },
  {
   "cell_type": "code",
   "execution_count": 34,
   "id": "cb048642",
   "metadata": {},
   "outputs": [
    {
     "data": {
      "text/html": [
       "<div>\n",
       "<style scoped>\n",
       "    .dataframe tbody tr th:only-of-type {\n",
       "        vertical-align: middle;\n",
       "    }\n",
       "\n",
       "    .dataframe tbody tr th {\n",
       "        vertical-align: top;\n",
       "    }\n",
       "\n",
       "    .dataframe thead th {\n",
       "        text-align: right;\n",
       "    }\n",
       "</style>\n",
       "<table border=\"1\" class=\"dataframe\">\n",
       "  <thead>\n",
       "    <tr style=\"text-align: right;\">\n",
       "      <th></th>\n",
       "      <th>date</th>\n",
       "      <th>state</th>\n",
       "      <th>country</th>\n",
       "      <th>0</th>\n",
       "    </tr>\n",
       "  </thead>\n",
       "  <tbody>\n",
       "    <tr>\n",
       "      <th>0</th>\n",
       "      <td>1/22/20</td>\n",
       "      <td>NaN</td>\n",
       "      <td>Afghanistan</td>\n",
       "      <td>0.0</td>\n",
       "    </tr>\n",
       "    <tr>\n",
       "      <th>1</th>\n",
       "      <td>1/22/20</td>\n",
       "      <td>NaN</td>\n",
       "      <td>Albania</td>\n",
       "      <td>0.0</td>\n",
       "    </tr>\n",
       "    <tr>\n",
       "      <th>2</th>\n",
       "      <td>1/22/20</td>\n",
       "      <td>NaN</td>\n",
       "      <td>Algeria</td>\n",
       "      <td>0.0</td>\n",
       "    </tr>\n",
       "    <tr>\n",
       "      <th>3</th>\n",
       "      <td>1/22/20</td>\n",
       "      <td>NaN</td>\n",
       "      <td>Andorra</td>\n",
       "      <td>0.0</td>\n",
       "    </tr>\n",
       "    <tr>\n",
       "      <th>4</th>\n",
       "      <td>1/22/20</td>\n",
       "      <td>NaN</td>\n",
       "      <td>Angola</td>\n",
       "      <td>0.0</td>\n",
       "    </tr>\n",
       "  </tbody>\n",
       "</table>\n",
       "</div>"
      ],
      "text/plain": [
       "      date state      country    0\n",
       "0  1/22/20   NaN  Afghanistan  0.0\n",
       "1  1/22/20   NaN      Albania  0.0\n",
       "2  1/22/20   NaN      Algeria  0.0\n",
       "3  1/22/20   NaN      Andorra  0.0\n",
       "4  1/22/20   NaN       Angola  0.0"
      ]
     },
     "execution_count": 34,
     "metadata": {},
     "output_type": "execute_result"
    }
   ],
   "source": [
    "pd_data.head()"
   ]
  },
  {
   "cell_type": "code",
   "execution_count": 36,
   "id": "2daa2cac",
   "metadata": {},
   "outputs": [
    {
     "data": {
      "text/plain": [
       "date        object\n",
       "state       object\n",
       "country     object\n",
       "0          float64\n",
       "dtype: object"
      ]
     },
     "execution_count": 36,
     "metadata": {},
     "output_type": "execute_result"
    }
   ],
   "source": [
    "pd_data.dtypes"
   ]
  },
  {
   "cell_type": "code",
   "execution_count": 37,
   "id": "0b43ae78",
   "metadata": {},
   "outputs": [],
   "source": [
    "#since date is a object (str) convert it\n",
    "pd_data['date'] = pd_data.date.astype('datetime64[ns]')\n"
   ]
  },
  {
   "cell_type": "code",
   "execution_count": 38,
   "id": "72e6db45",
   "metadata": {},
   "outputs": [
    {
     "data": {
      "text/plain": [
       "date       datetime64[ns]\n",
       "state              object\n",
       "country            object\n",
       "0                 float64\n",
       "dtype: object"
      ]
     },
     "execution_count": 38,
     "metadata": {},
     "output_type": "execute_result"
    }
   ],
   "source": [
    "pd_data.dtypes"
   ]
  },
  {
   "cell_type": "code",
   "execution_count": 41,
   "id": "be21eec7",
   "metadata": {},
   "outputs": [],
   "source": [
    "pd_data.to_csv('../data/processed/COVID_relational_confirmed.csv')"
   ]
  }
 ],
 "metadata": {
  "kernelspec": {
   "display_name": "Python 3 (ipykernel)",
   "language": "python",
   "name": "python3"
  },
  "language_info": {
   "codemirror_mode": {
    "name": "ipython",
    "version": 3
   },
   "file_extension": ".py",
   "mimetype": "text/x-python",
   "name": "python",
   "nbconvert_exporter": "python",
   "pygments_lexer": "ipython3",
   "version": "3.9.7"
  }
 },
 "nbformat": 4,
 "nbformat_minor": 5
}
