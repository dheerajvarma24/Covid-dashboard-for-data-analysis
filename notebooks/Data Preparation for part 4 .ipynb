{
 "cells": [
  {
   "cell_type": "markdown",
   "id": "9f403ffc",
   "metadata": {},
   "source": [
    "## It follows the structure present in notebooks/Data_Preparation_V1.1.ipynb of Lecture covid 19 analysis"
   ]
  },
  {
   "cell_type": "markdown",
   "id": "d2e81a05",
   "metadata": {},
   "source": [
    "#### https://github.com/kienlef/Lecture_Covid_19_data_analysis/blob/master/notebooks/Data_Preparation_V1.1.ipynb"
   ]
  },
  {
   "cell_type": "code",
   "execution_count": 2,
   "id": "321c5aed",
   "metadata": {},
   "outputs": [],
   "source": [
    "import pandas as pd\n",
    "import numpy as np\n",
    "\n",
    "from datetime import datetime\n",
    "\n",
    "%matplotlib inline\n",
    "pd.set_option('display.max_rows', 500)"
   ]
  },
  {
   "cell_type": "code",
   "execution_count": 4,
   "id": "dd15bf84",
   "metadata": {},
   "outputs": [
    {
     "data": {
      "text/plain": [
       "'Your base path is at: Enterprise-Data-Science-Submissions'"
      ]
     },
     "execution_count": 4,
     "metadata": {},
     "output_type": "execute_result"
    }
   ],
   "source": [
    "import os\n",
    "if os.path.split(os.getcwd())[-1]=='notebooks':\n",
    "    os.chdir(\"../\")\n",
    "\n",
    "'Your base path is at: '+os.path.split(os.getcwd())[-1]"
   ]
  },
  {
   "cell_type": "code",
   "execution_count": 6,
   "id": "18d255c8",
   "metadata": {},
   "outputs": [
    {
     "data": {
      "text/html": [
       "<div>\n",
       "<style scoped>\n",
       "    .dataframe tbody tr th:only-of-type {\n",
       "        vertical-align: middle;\n",
       "    }\n",
       "\n",
       "    .dataframe tbody tr th {\n",
       "        vertical-align: top;\n",
       "    }\n",
       "\n",
       "    .dataframe thead th {\n",
       "        text-align: right;\n",
       "    }\n",
       "</style>\n",
       "<table border=\"1\" class=\"dataframe\">\n",
       "  <thead>\n",
       "    <tr style=\"text-align: right;\">\n",
       "      <th></th>\n",
       "      <th>Province/State</th>\n",
       "      <th>Country/Region</th>\n",
       "      <th>Lat</th>\n",
       "      <th>Long</th>\n",
       "      <th>1/22/20</th>\n",
       "      <th>1/23/20</th>\n",
       "      <th>1/24/20</th>\n",
       "      <th>1/25/20</th>\n",
       "      <th>1/26/20</th>\n",
       "      <th>1/27/20</th>\n",
       "      <th>...</th>\n",
       "      <th>7/15/22</th>\n",
       "      <th>7/16/22</th>\n",
       "      <th>7/17/22</th>\n",
       "      <th>7/18/22</th>\n",
       "      <th>7/19/22</th>\n",
       "      <th>7/20/22</th>\n",
       "      <th>7/21/22</th>\n",
       "      <th>7/22/22</th>\n",
       "      <th>7/23/22</th>\n",
       "      <th>7/24/22</th>\n",
       "    </tr>\n",
       "  </thead>\n",
       "  <tbody>\n",
       "    <tr>\n",
       "      <th>0</th>\n",
       "      <td>NaN</td>\n",
       "      <td>Afghanistan</td>\n",
       "      <td>33.93911</td>\n",
       "      <td>67.709953</td>\n",
       "      <td>0</td>\n",
       "      <td>0</td>\n",
       "      <td>0</td>\n",
       "      <td>0</td>\n",
       "      <td>0</td>\n",
       "      <td>0</td>\n",
       "      <td>...</td>\n",
       "      <td>183407</td>\n",
       "      <td>183445</td>\n",
       "      <td>183572</td>\n",
       "      <td>183687</td>\n",
       "      <td>183908</td>\n",
       "      <td>184038</td>\n",
       "      <td>184224</td>\n",
       "      <td>184360</td>\n",
       "      <td>184473</td>\n",
       "      <td>184587</td>\n",
       "    </tr>\n",
       "    <tr>\n",
       "      <th>1</th>\n",
       "      <td>NaN</td>\n",
       "      <td>Albania</td>\n",
       "      <td>41.15330</td>\n",
       "      <td>20.168300</td>\n",
       "      <td>0</td>\n",
       "      <td>0</td>\n",
       "      <td>0</td>\n",
       "      <td>0</td>\n",
       "      <td>0</td>\n",
       "      <td>0</td>\n",
       "      <td>...</td>\n",
       "      <td>293917</td>\n",
       "      <td>293917</td>\n",
       "      <td>293917</td>\n",
       "      <td>293917</td>\n",
       "      <td>293917</td>\n",
       "      <td>293917</td>\n",
       "      <td>293917</td>\n",
       "      <td>293917</td>\n",
       "      <td>293917</td>\n",
       "      <td>293917</td>\n",
       "    </tr>\n",
       "    <tr>\n",
       "      <th>2</th>\n",
       "      <td>NaN</td>\n",
       "      <td>Algeria</td>\n",
       "      <td>28.03390</td>\n",
       "      <td>1.659600</td>\n",
       "      <td>0</td>\n",
       "      <td>0</td>\n",
       "      <td>0</td>\n",
       "      <td>0</td>\n",
       "      <td>0</td>\n",
       "      <td>0</td>\n",
       "      <td>...</td>\n",
       "      <td>266392</td>\n",
       "      <td>266424</td>\n",
       "      <td>266445</td>\n",
       "      <td>266487</td>\n",
       "      <td>266542</td>\n",
       "      <td>266591</td>\n",
       "      <td>266654</td>\n",
       "      <td>266700</td>\n",
       "      <td>266772</td>\n",
       "      <td>266839</td>\n",
       "    </tr>\n",
       "    <tr>\n",
       "      <th>3</th>\n",
       "      <td>NaN</td>\n",
       "      <td>Andorra</td>\n",
       "      <td>42.50630</td>\n",
       "      <td>1.521800</td>\n",
       "      <td>0</td>\n",
       "      <td>0</td>\n",
       "      <td>0</td>\n",
       "      <td>0</td>\n",
       "      <td>0</td>\n",
       "      <td>0</td>\n",
       "      <td>...</td>\n",
       "      <td>44671</td>\n",
       "      <td>44671</td>\n",
       "      <td>44671</td>\n",
       "      <td>45061</td>\n",
       "      <td>45061</td>\n",
       "      <td>45061</td>\n",
       "      <td>45326</td>\n",
       "      <td>45326</td>\n",
       "      <td>45326</td>\n",
       "      <td>45326</td>\n",
       "    </tr>\n",
       "    <tr>\n",
       "      <th>4</th>\n",
       "      <td>NaN</td>\n",
       "      <td>Angola</td>\n",
       "      <td>-11.20270</td>\n",
       "      <td>17.873900</td>\n",
       "      <td>0</td>\n",
       "      <td>0</td>\n",
       "      <td>0</td>\n",
       "      <td>0</td>\n",
       "      <td>0</td>\n",
       "      <td>0</td>\n",
       "      <td>...</td>\n",
       "      <td>101901</td>\n",
       "      <td>101901</td>\n",
       "      <td>101901</td>\n",
       "      <td>102209</td>\n",
       "      <td>102209</td>\n",
       "      <td>102209</td>\n",
       "      <td>102209</td>\n",
       "      <td>102301</td>\n",
       "      <td>102301</td>\n",
       "      <td>102301</td>\n",
       "    </tr>\n",
       "  </tbody>\n",
       "</table>\n",
       "<p>5 rows × 919 columns</p>\n",
       "</div>"
      ],
      "text/plain": [
       "  Province/State Country/Region       Lat       Long  1/22/20  1/23/20  \\\n",
       "0            NaN    Afghanistan  33.93911  67.709953        0        0   \n",
       "1            NaN        Albania  41.15330  20.168300        0        0   \n",
       "2            NaN        Algeria  28.03390   1.659600        0        0   \n",
       "3            NaN        Andorra  42.50630   1.521800        0        0   \n",
       "4            NaN         Angola -11.20270  17.873900        0        0   \n",
       "\n",
       "   1/24/20  1/25/20  1/26/20  1/27/20  ...  7/15/22  7/16/22  7/17/22  \\\n",
       "0        0        0        0        0  ...   183407   183445   183572   \n",
       "1        0        0        0        0  ...   293917   293917   293917   \n",
       "2        0        0        0        0  ...   266392   266424   266445   \n",
       "3        0        0        0        0  ...    44671    44671    44671   \n",
       "4        0        0        0        0  ...   101901   101901   101901   \n",
       "\n",
       "   7/18/22  7/19/22  7/20/22  7/21/22  7/22/22  7/23/22  7/24/22  \n",
       "0   183687   183908   184038   184224   184360   184473   184587  \n",
       "1   293917   293917   293917   293917   293917   293917   293917  \n",
       "2   266487   266542   266591   266654   266700   266772   266839  \n",
       "3    45061    45061    45061    45326    45326    45326    45326  \n",
       "4   102209   102209   102209   102209   102301   102301   102301  \n",
       "\n",
       "[5 rows x 919 columns]"
      ]
     },
     "execution_count": 6,
     "metadata": {},
     "output_type": "execute_result"
    }
   ],
   "source": [
    "data_path='data/raw/COVID-19-master/csse_covid_19_data/csse_covid_19_time_series/time_series_covid19_confirmed_global.csv'\n",
    "pd_raw=pd.read_csv(data_path)\n",
    "pd_raw.head()"
   ]
  },
  {
   "cell_type": "code",
   "execution_count": 7,
   "id": "6fed12be",
   "metadata": {},
   "outputs": [
    {
     "data": {
      "text/html": [
       "<div>\n",
       "<style scoped>\n",
       "    .dataframe tbody tr th:only-of-type {\n",
       "        vertical-align: middle;\n",
       "    }\n",
       "\n",
       "    .dataframe tbody tr th {\n",
       "        vertical-align: top;\n",
       "    }\n",
       "\n",
       "    .dataframe thead th {\n",
       "        text-align: right;\n",
       "    }\n",
       "</style>\n",
       "<table border=\"1\" class=\"dataframe\">\n",
       "  <thead>\n",
       "    <tr style=\"text-align: right;\">\n",
       "      <th></th>\n",
       "      <th>date</th>\n",
       "    </tr>\n",
       "  </thead>\n",
       "  <tbody>\n",
       "    <tr>\n",
       "      <th>0</th>\n",
       "      <td>1/22/20</td>\n",
       "    </tr>\n",
       "    <tr>\n",
       "      <th>1</th>\n",
       "      <td>1/23/20</td>\n",
       "    </tr>\n",
       "    <tr>\n",
       "      <th>2</th>\n",
       "      <td>1/24/20</td>\n",
       "    </tr>\n",
       "    <tr>\n",
       "      <th>3</th>\n",
       "      <td>1/25/20</td>\n",
       "    </tr>\n",
       "    <tr>\n",
       "      <th>4</th>\n",
       "      <td>1/26/20</td>\n",
       "    </tr>\n",
       "  </tbody>\n",
       "</table>\n",
       "</div>"
      ],
      "text/plain": [
       "      date\n",
       "0  1/22/20\n",
       "1  1/23/20\n",
       "2  1/24/20\n",
       "3  1/25/20\n",
       "4  1/26/20"
      ]
     },
     "execution_count": 7,
     "metadata": {},
     "output_type": "execute_result"
    }
   ],
   "source": [
    "time_idx=pd_raw.columns[4:]\n",
    "df_plot = pd.DataFrame({\n",
    "    'date':time_idx})\n",
    "df_plot.head()"
   ]
  },
  {
   "cell_type": "code",
   "execution_count": 8,
   "id": "6a3a3eff",
   "metadata": {},
   "outputs": [],
   "source": [
    "country_list=['Germany',\n",
    "              'US',\n",
    "              'Italy',\n",
    "              'India',\n",
    "              'Australia',\n",
    "             ] "
   ]
  },
  {
   "cell_type": "code",
   "execution_count": 9,
   "id": "b40bfbaf",
   "metadata": {},
   "outputs": [],
   "source": [
    "for each in country_list:\n",
    "    df_plot[each]=np.array(pd_raw[pd_raw['Country/Region']==each].iloc[:,4::].sum(axis=0))"
   ]
  },
  {
   "cell_type": "code",
   "execution_count": 10,
   "id": "809357bb",
   "metadata": {},
   "outputs": [
    {
     "data": {
      "text/plain": [
       "<AxesSubplot:xlabel='date'>"
      ]
     },
     "execution_count": 10,
     "metadata": {},
     "output_type": "execute_result"
    },
    {
     "data": {
      "image/png": "[encoded data removed]",
      "text/plain": [
       "<Figure size 432x288 with 1 Axes>"
      ]
     },
     "metadata": {
      "needs_background": "light"
     },
     "output_type": "display_data"
    }
   ],
   "source": [
    "%matplotlib inline\n",
    "df_plot.set_index('date').plot()"
   ]
  },
  {
   "cell_type": "code",
   "execution_count": 12,
   "id": "5941819f",
   "metadata": {},
   "outputs": [
    {
     "data": {
      "text/html": [
       "<div>\n",
       "<style scoped>\n",
       "    .dataframe tbody tr th:only-of-type {\n",
       "        vertical-align: middle;\n",
       "    }\n",
       "\n",
       "    .dataframe tbody tr th {\n",
       "        vertical-align: top;\n",
       "    }\n",
       "\n",
       "    .dataframe thead th {\n",
       "        text-align: right;\n",
       "    }\n",
       "</style>\n",
       "<table border=\"1\" class=\"dataframe\">\n",
       "  <thead>\n",
       "    <tr style=\"text-align: right;\">\n",
       "      <th></th>\n",
       "      <th>date</th>\n",
       "      <th>Germany</th>\n",
       "      <th>US</th>\n",
       "      <th>Italy</th>\n",
       "      <th>India</th>\n",
       "      <th>Australia</th>\n",
       "    </tr>\n",
       "  </thead>\n",
       "  <tbody>\n",
       "    <tr>\n",
       "      <th>910</th>\n",
       "      <td>7/20/22</td>\n",
       "      <td>30131303</td>\n",
       "      <td>90046261</td>\n",
       "      <td>20385814</td>\n",
       "      <td>43824728</td>\n",
       "      <td>8967138</td>\n",
       "    </tr>\n",
       "    <tr>\n",
       "      <th>911</th>\n",
       "      <td>7/21/22</td>\n",
       "      <td>30239122</td>\n",
       "      <td>90200438</td>\n",
       "      <td>20467349</td>\n",
       "      <td>43847065</td>\n",
       "      <td>9018965</td>\n",
       "    </tr>\n",
       "    <tr>\n",
       "      <th>912</th>\n",
       "      <td>7/22/22</td>\n",
       "      <td>30331131</td>\n",
       "      <td>90367064</td>\n",
       "      <td>20539016</td>\n",
       "      <td>43868476</td>\n",
       "      <td>9065275</td>\n",
       "    </tr>\n",
       "    <tr>\n",
       "      <th>913</th>\n",
       "      <td>7/23/22</td>\n",
       "      <td>30331133</td>\n",
       "      <td>90390185</td>\n",
       "      <td>20608190</td>\n",
       "      <td>43888755</td>\n",
       "      <td>9103321</td>\n",
       "    </tr>\n",
       "    <tr>\n",
       "      <th>914</th>\n",
       "      <td>7/24/22</td>\n",
       "      <td>30331133</td>\n",
       "      <td>90410386</td>\n",
       "      <td>20660065</td>\n",
       "      <td>43905621</td>\n",
       "      <td>9136110</td>\n",
       "    </tr>\n",
       "  </tbody>\n",
       "</table>\n",
       "</div>"
      ],
      "text/plain": [
       "        date   Germany        US     Italy     India  Australia\n",
       "910  7/20/22  30131303  90046261  20385814  43824728    8967138\n",
       "911  7/21/22  30239122  90200438  20467349  43847065    9018965\n",
       "912  7/22/22  30331131  90367064  20539016  43868476    9065275\n",
       "913  7/23/22  30331133  90390185  20608190  43888755    9103321\n",
       "914  7/24/22  30331133  90410386  20660065  43905621    9136110"
      ]
     },
     "execution_count": 12,
     "metadata": {},
     "output_type": "execute_result"
    }
   ],
   "source": [
    "df_plot.tail()"
   ]
  },
  {
   "cell_type": "code",
   "execution_count": 13,
   "id": "872c11b2",
   "metadata": {},
   "outputs": [],
   "source": [
    "time_idx=[datetime.strptime( each,\"%m/%d/%y\") for each in df_plot.date] # convert to datetime\n",
    "time_str=[each.strftime('%Y-%m-%d') for each in time_idx] # convert back to date ISO norm (str)"
   ]
  },
  {
   "cell_type": "code",
   "execution_count": 14,
   "id": "90be6da1",
   "metadata": {},
   "outputs": [
    {
     "data": {
      "text/plain": [
       "pandas._libs.tslibs.timestamps.Timestamp"
      ]
     },
     "execution_count": 14,
     "metadata": {},
     "output_type": "execute_result"
    }
   ],
   "source": [
    "df_plot['date']=time_idx\n",
    "type(df_plot['date'][0])"
   ]
  },
  {
   "cell_type": "code",
   "execution_count": 16,
   "id": "af2be62b",
   "metadata": {},
   "outputs": [
    {
     "data": {
      "text/html": [
       "<div>\n",
       "<style scoped>\n",
       "    .dataframe tbody tr th:only-of-type {\n",
       "        vertical-align: middle;\n",
       "    }\n",
       "\n",
       "    .dataframe tbody tr th {\n",
       "        vertical-align: top;\n",
       "    }\n",
       "\n",
       "    .dataframe thead th {\n",
       "        text-align: right;\n",
       "    }\n",
       "</style>\n",
       "<table border=\"1\" class=\"dataframe\">\n",
       "  <thead>\n",
       "    <tr style=\"text-align: right;\">\n",
       "      <th></th>\n",
       "      <th>date</th>\n",
       "      <th>Germany</th>\n",
       "      <th>US</th>\n",
       "      <th>Italy</th>\n",
       "      <th>India</th>\n",
       "      <th>Australia</th>\n",
       "    </tr>\n",
       "  </thead>\n",
       "  <tbody>\n",
       "    <tr>\n",
       "      <th>910</th>\n",
       "      <td>2022-07-20</td>\n",
       "      <td>30131303</td>\n",
       "      <td>90046261</td>\n",
       "      <td>20385814</td>\n",
       "      <td>43824728</td>\n",
       "      <td>8967138</td>\n",
       "    </tr>\n",
       "    <tr>\n",
       "      <th>911</th>\n",
       "      <td>2022-07-21</td>\n",
       "      <td>30239122</td>\n",
       "      <td>90200438</td>\n",
       "      <td>20467349</td>\n",
       "      <td>43847065</td>\n",
       "      <td>9018965</td>\n",
       "    </tr>\n",
       "    <tr>\n",
       "      <th>912</th>\n",
       "      <td>2022-07-22</td>\n",
       "      <td>30331131</td>\n",
       "      <td>90367064</td>\n",
       "      <td>20539016</td>\n",
       "      <td>43868476</td>\n",
       "      <td>9065275</td>\n",
       "    </tr>\n",
       "    <tr>\n",
       "      <th>913</th>\n",
       "      <td>2022-07-23</td>\n",
       "      <td>30331133</td>\n",
       "      <td>90390185</td>\n",
       "      <td>20608190</td>\n",
       "      <td>43888755</td>\n",
       "      <td>9103321</td>\n",
       "    </tr>\n",
       "    <tr>\n",
       "      <th>914</th>\n",
       "      <td>2022-07-24</td>\n",
       "      <td>30331133</td>\n",
       "      <td>90410386</td>\n",
       "      <td>20660065</td>\n",
       "      <td>43905621</td>\n",
       "      <td>9136110</td>\n",
       "    </tr>\n",
       "  </tbody>\n",
       "</table>\n",
       "</div>"
      ],
      "text/plain": [
       "          date   Germany        US     Italy     India  Australia\n",
       "910 2022-07-20  30131303  90046261  20385814  43824728    8967138\n",
       "911 2022-07-21  30239122  90200438  20467349  43847065    9018965\n",
       "912 2022-07-22  30331131  90367064  20539016  43868476    9065275\n",
       "913 2022-07-23  30331133  90390185  20608190  43888755    9103321\n",
       "914 2022-07-24  30331133  90410386  20660065  43905621    9136110"
      ]
     },
     "execution_count": 16,
     "metadata": {},
     "output_type": "execute_result"
    }
   ],
   "source": [
    "df_plot.tail()"
   ]
  },
  {
   "cell_type": "code",
   "execution_count": 18,
   "id": "83602ede",
   "metadata": {},
   "outputs": [],
   "source": [
    "df_plot.to_csv('data/processed/COVID_small_flat_table.csv',sep=';',index=False)"
   ]
  }
 ],
 "metadata": {
  "kernelspec": {
   "display_name": "Python 3 (ipykernel)",
   "language": "python",
   "name": "python3"
  },
  "language_info": {
   "codemirror_mode": {
    "name": "ipython",
    "version": 3
   },
   "file_extension": ".py",
   "mimetype": "text/x-python",
   "name": "python",
   "nbconvert_exporter": "python",
   "pygments_lexer": "ipython3",
   "version": "3.9.7"
  }
 },
 "nbformat": 4,
 "nbformat_minor": 5
}
