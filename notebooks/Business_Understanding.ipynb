{
 "cells": [
  {
   "cell_type": "code",
   "execution_count": 1,
   "id": "be44b639",
   "metadata": {
    "scrolled": true
   },
   "outputs": [
    {
     "name": "stdout",
     "output_type": "stream",
     "text": [
      " Volume in drive D is DATA\n",
      " Volume Serial Number is 308C-A950\n",
      "\n",
      " Directory of D:\\documents\\TU K\\TU K 3rd sem\\enterprise data science\\EDS_covid_19_practice\\EDS_covid_19\\notebooks\n",
      "\n",
      "20-06-2022  12:48    <DIR>          .\n",
      "20-06-2022  12:46    <DIR>          ..\n",
      "20-06-2022  12:46                 0 .gitkeep\n",
      "20-06-2022  12:48    <DIR>          .ipynb_checkpoints\n",
      "20-06-2022  12:43             1,068 EDS_covid_19_practice.ipynb\n",
      "               2 File(s)          1,068 bytes\n",
      "               3 Dir(s)  933,297,389,568 bytes free\n"
     ]
    }
   ],
   "source": [
    "!dir"
   ]
  },
  {
   "cell_type": "markdown",
   "id": "51da6558",
   "metadata": {},
   "source": [
    "![CRISP_DM.png](../reports/figures/CRISP_DM.png)"
   ]
  },
  {
   "cell_type": "markdown",
   "id": "4e6c47a5",
   "metadata": {},
   "source": [
    "# Business Understanding\n",
    "\n",
    "TODO - write description"
   ]
  },
  {
   "cell_type": "code",
   "execution_count": null,
   "id": "cca2400f",
   "metadata": {},
   "outputs": [],
   "source": []
  }
 ],
 "metadata": {
  "kernelspec": {
   "display_name": "Python 3 (ipykernel)",
   "language": "python",
   "name": "python3"
  },
  "language_info": {
   "codemirror_mode": {
    "name": "ipython",
    "version": 3
   },
   "file_extension": ".py",
   "mimetype": "text/x-python",
   "name": "python",
   "nbconvert_exporter": "python",
   "pygments_lexer": "ipython3",
   "version": "3.9.7"
  }
 },
 "nbformat": 4,
 "nbformat_minor": 5
}
